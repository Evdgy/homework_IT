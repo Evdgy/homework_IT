{
 "cells": [
  {
   "cell_type": "code",
   "execution_count": 33,
   "id": "0077db6c",
   "metadata": {},
   "outputs": [
    {
     "name": "stdout",
     "output_type": "stream",
     "text": [
      "Requirement already satisfied: scikit-learn in c:\\users\\elena\\appdata\\local\\programs\\python\\python312\\lib\\site-packages (1.6.1)\n",
      "Requirement already satisfied: numpy>=1.19.5 in c:\\users\\elena\\appdata\\local\\programs\\python\\python312\\lib\\site-packages (from scikit-learn) (2.0.2)\n",
      "Requirement already satisfied: scipy>=1.6.0 in c:\\users\\elena\\appdata\\local\\programs\\python\\python312\\lib\\site-packages (from scikit-learn) (1.13.1)\n",
      "Requirement already satisfied: joblib>=1.2.0 in c:\\users\\elena\\appdata\\local\\programs\\python\\python312\\lib\\site-packages (from scikit-learn) (1.4.2)\n",
      "Requirement already satisfied: threadpoolctl>=3.1.0 in c:\\users\\elena\\appdata\\local\\programs\\python\\python312\\lib\\site-packages (from scikit-learn) (3.6.0)\n"
     ]
    }
   ],
   "source": [
    "!pip install scikit-learn"
   ]
  },
  {
   "cell_type": "code",
   "execution_count": 34,
   "id": "55114225",
   "metadata": {},
   "outputs": [],
   "source": [
    "import numpy as np\n",
    "from sklearn.metrics import mean_absolute_error, mean_squared_error\n",
    "from scipy.stats import pearsonr"
   ]
  },
  {
   "cell_type": "code",
   "execution_count": 35,
   "id": "831523ec",
   "metadata": {},
   "outputs": [],
   "source": [
    "def metrics(model_scores, recruiter_scores, max_point, min_point):\n",
    "\n",
    "    model_scores = np.array(model_scores)\n",
    "    recruiter_scores = np.array(recruiter_scores)\n",
    "\n",
    "    mae = mean_absolute_error(model_scores, recruiter_scores)\n",
    "\n",
    "    mse = mean_squared_error(model_scores, recruiter_scores)\n",
    "\n",
    "    model_flattened = model_scores.flatten()\n",
    "    recruiter_flattened = recruiter_scores.flatten()\n",
    "    pearson_num, _ = pearsonr(model_flattened, recruiter_flattened)\n",
    "\n",
    "    number_of_matches = (model_scores == recruiter_scores).sum()\n",
    "    total = model_scores.size \n",
    "    accuracy = number_of_matches/total\n",
    "   \n",
    "    max_possible_mae = max_point - min_point\n",
    "    max_possible_mse = (max_point - min_point) ** 2\n",
    "\n",
    "    normalized_mae = 1 - (mae / max_possible_mae)\n",
    "    normalized_mse = 1 - (mse / max_possible_mse)\n",
    "\n",
    "    normalized_pearson = (pearson_num + 1) / 2\n",
    "\n",
    "    total_score = (normalized_mae + normalized_mse + normalized_pearson + accuracy) / 4\n",
    "\n",
    "    return mae, mse, accuracy, pearson_num, total_score"
   ]
  },
  {
   "cell_type": "markdown",
   "id": "afe58482",
   "metadata": {},
   "source": []
  },
  {
   "cell_type": "code",
   "execution_count": 36,
   "id": "72e25b59",
   "metadata": {},
   "outputs": [],
   "source": [
    "model_scores = [\n",
    "    [3 ,2], # Кандидат 1 (Рита)\n",
    "    [2 ,2], # Кандидат 2 (Нария)\n",
    "    [2 ,1], # Кандидат 3 (Патя)\n",
    "    [2 ,1], # Кандидат 4 (Лера)\n",
    "    [2 ,1], # Кандидат 5 (Мария)\n",
    "    [3, 2], # Кандидат 6 (Диана)\n",
    "]\n",
    "\n",
    "\n",
    "# Оценки рекрутера - вписать надо единожды\n",
    "recruiter_scores = [\n",
    "    [2, 2], # Кандидат 1 (Рита)\n",
    "    [2, 2], # Кандидат 2 (Нария)\n",
    "    [1, 1], # Кандидат 3 (Патя)\n",
    "    [2, 2], # Кандидат 4 (Лера)\n",
    "    [2, 2], # Кандидат 5 (Мария)\n",
    "    [2, 2], # Кандидат 6 (Диана)\n",
    "]"
   ]
  },
  {
   "cell_type": "code",
   "execution_count": 37,
   "id": "5b6cbb8c",
   "metadata": {},
   "outputs": [],
   "source": [
    "mae, mse, pearson_num, accuracy, total_score = metrics(model_scores, recruiter_scores, max_point = 3, min_point = 1)"
   ]
  },
  {
   "cell_type": "code",
   "execution_count": 41,
   "id": "c179dd22",
   "metadata": {},
   "outputs": [
    {
     "name": "stdout",
     "output_type": "stream",
     "text": [
      "Mean absolute error: 0.417\n",
      "Mean squared error: 0.417\n",
      "Количество совпадений: 0.291\n",
      "Коэффициент корреляции:0.583\n",
      "Общее значение:0.729\n"
     ]
    }
   ],
   "source": [
    "print(f\"Mean absolute error: {round(mae, 3)}\")\n",
    "print(f\"Mean squared error: {round(mse, 3)}\")\n",
    "print(f\"Количество совпадений: {accuracy.round(3)}\")\n",
    "print(f\"Коэффициент корреляции:{pearson_num.round(3)}\")\n",
    "print(f\"Общее значение:{total_score.round(3)}\")"
   ]
  },
  {
   "cell_type": "code",
   "execution_count": null,
   "id": "814a9c33",
   "metadata": {},
   "outputs": [],
   "source": []
  }
 ],
 "metadata": {
  "kernelspec": {
   "display_name": "Python 3",
   "language": "python",
   "name": "python3"
  },
  "language_info": {
   "codemirror_mode": {
    "name": "ipython",
    "version": 3
   },
   "file_extension": ".py",
   "mimetype": "text/x-python",
   "name": "python",
   "nbconvert_exporter": "python",
   "pygments_lexer": "ipython3",
   "version": "3.12.6"
  }
 },
 "nbformat": 4,
 "nbformat_minor": 5
}
